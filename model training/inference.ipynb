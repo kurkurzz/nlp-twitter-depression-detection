{
 "cells": [
  {
   "cell_type": "markdown",
   "id": "6cbd9980",
   "metadata": {},
   "source": [
    "## import dependencies"
   ]
  },
  {
   "cell_type": "code",
   "execution_count": 1,
   "id": "5406643b",
   "metadata": {},
   "outputs": [
    {
     "name": "stderr",
     "output_type": "stream",
     "text": [
      "[nltk_data] Downloading package stopwords to\n",
      "[nltk_data]     C:\\Users\\user\\AppData\\Roaming\\nltk_data...\n",
      "[nltk_data]   Package stopwords is already up-to-date!\n",
      "[nltk_data] Downloading package wordnet to\n",
      "[nltk_data]     C:\\Users\\user\\AppData\\Roaming\\nltk_data...\n",
      "[nltk_data]   Package wordnet is already up-to-date!\n",
      "[nltk_data] Downloading package omw-1.4 to\n",
      "[nltk_data]     C:\\Users\\user\\AppData\\Roaming\\nltk_data...\n",
      "[nltk_data]   Package omw-1.4 is already up-to-date!\n"
     ]
    }
   ],
   "source": [
    "# utilities\n",
    "import re\n",
    "import pickle\n",
    "import numpy as np\n",
    "import pandas as pd\n",
    "\n",
    "# plotting\n",
    "import seaborn as sns\n",
    "from wordcloud import WordCloud\n",
    "import matplotlib.pyplot as plt\n",
    "\n",
    "# Natural Language Toolkit (nltk)\n",
    "from nltk.stem import WordNetLemmatizer\n",
    "from nltk import download\n",
    "download('stopwords')\n",
    "download('wordnet')\n",
    "from nltk.corpus import stopwords\n",
    "import nltk\n",
    "nltk.download('omw-1.4')\n",
    "\n",
    "# Model Buildig (sklearn)\n",
    "from sklearn.svm import LinearSVC\n",
    "from sklearn.naive_bayes import BernoulliNB\n",
    "from sklearn.linear_model import LogisticRegression\n",
    "from sklearn.ensemble import RandomForestClassifier, ExtraTreesClassifier\n",
    "from lightgbm import LGBMClassifier\n",
    "from catboost import CatBoostClassifier\n",
    "\n",
    "#Data Splitting and Traininig\n",
    "from sklearn.model_selection import train_test_split\n",
    "from sklearn.feature_extraction.text import TfidfVectorizer\n",
    "from sklearn.metrics import confusion_matrix, classification_report\n",
    "\n",
    "import time"
   ]
  },
  {
   "cell_type": "markdown",
   "id": "9367dc9b",
   "metadata": {},
   "source": [
    "## preprocessing"
   ]
  },
  {
   "cell_type": "code",
   "execution_count": 2,
   "id": "1380edea",
   "metadata": {},
   "outputs": [],
   "source": [
    "# Defining dictionary containing all emojis with their meanings.\n",
    "emojis = {':)': 'smile', ':-)': 'smile', ';d': 'wink', ':-E': 'vampire', ':(': 'sad', \n",
    "          ':-(': 'sad', ':-<': 'sad', ':P': 'raspberry', ':O': 'surprised',\n",
    "          ':-@': 'shocked', ':@': 'shocked',':-$': 'confused', ':\\\\': 'annoyed', \n",
    "          ':#': 'mute', ':X': 'mute', ':^)': 'smile', ':-&': 'confused', '$_$': 'greedy',\n",
    "          '@@': 'eyeroll', ':-!': 'confused', ':-D': 'smile', ':-0': 'yell', 'O.o': 'confused',\n",
    "          '<(-_-)>': 'robot', 'd[-_-]b': 'dj', \":'-)\": 'sadsmile', ';)': 'wink', \n",
    "          ';-)': 'wink', 'O:-)': 'angel','O*-)': 'angel','(:-D': 'gossip', '=^.^=': 'cat'}\n",
    "\n",
    "mystopwordlist = ['a', 'about', 'above', 'after', 'again', 'ain', 'all', 'am', 'an',\n",
    "             'and','any','are', 'as', 'at', 'be', 'because', 'been', 'before',\n",
    "             'being', 'below', 'between','both', 'by', 'can', 'd', 'did', 'do',\n",
    "             'does', 'doing', 'down', 'during', 'each','few', 'for', 'from', \n",
    "             'further', 'had', 'has', 'have', 'having', 'he', 'her', 'here',\n",
    "             'hers', 'herself', 'him', 'himself', 'his', 'how', 'i', 'if', 'in',\n",
    "             'into','is', 'it', 'its', 'itself', 'just', 'll', 'm', 'ma',\n",
    "             'me', 'more', 'most','my', 'myself', 'now', 'o', 'of', 'on', 'once',\n",
    "             'only', 'or', 'other', 'our', 'ours','ourselves', 'out', 'own', 're',\n",
    "             's', 'same', 'she', \"shes\", 'should', \"shouldve\",'so', 'some', 'such',\n",
    "             't', 'than', 'that', \"thatll\", 'the', 'their', 'theirs', 'them',\n",
    "             'themselves', 'then', 'there', 'these', 'they', 'this', 'those', \n",
    "             'through', 'to', 'too','under', 'until', 'up', 've', 'very', 'was',\n",
    "             'we', 'were', 'what', 'when', 'where','which','while', 'who', 'whom',\n",
    "             'why', 'will', 'with', 'won', 'y', 'you', \"youd\",\"youll\", \"youre\",\n",
    "             \"youve\", 'your', 'yours', 'yourself', 'yourselves']\n",
    "\n",
    "stopwordlist = stopwords.words('english') + mystopwordlist\n",
    "\n",
    "def preprocess(textdata):\n",
    "    processedText = []\n",
    "    \n",
    "    #creating a Lemmatizer\n",
    "    wordLemma = WordNetLemmatizer() #define the imported library\n",
    "    \n",
    "    # Defining regular expression pattern we can find. in tweets\n",
    "    \n",
    "    urlPattern        = r\"((http://)[^ ]*|(https://)[^ ]*|( www\\.)[^ ]*)\" # e.g check out https://dot.com for more\n",
    "    userPattern       = '@[^\\s]+' # e.g @FagbamigbeK check this out\n",
    "    alphaPattern      = \"[^a-zA-Z0-9]\" # e.g I am *10 better!\n",
    "    sequencePattern   = r\"(.)\\1\\1+\"  # e.g Heyyyyyyy, I am back!\n",
    "    seqReplacePattern = r\"\\1\\1\" # e.g Replace Heyyyyyyy with Heyy\n",
    "    \n",
    "    \n",
    "    for tweet in textdata:\n",
    "        tweet = tweet.lower() #normalizing all text to a lower case\n",
    "        \n",
    "        \n",
    "        # Replace all URls with 'URL'\n",
    "        tweet = re.sub(urlPattern,' URL',tweet) #using the substitution method of the regular expression library\n",
    "        \n",
    "        \n",
    "        # Replace all emojis.\n",
    "        for emoji in emojis.keys(): #in each of the looped tweet, replace each emojis with their respective meaning\n",
    "            tweet = tweet.replace(emoji, \"EMOJI\" + emojis[emoji])  # emojis[emoji] helps to get the value of the emoji from the dictionary\n",
    "            \n",
    "            \n",
    "        # Replace @USERNAME to 'USER'.\n",
    "        tweet = re.sub(userPattern,' USER', tweet)  #To hide Personal Information, we can replace all usernames with User\n",
    "        \n",
    "        \n",
    "        # Replace all non alphabets.\n",
    "        tweet = re.sub(alphaPattern, \" \", tweet) # e.g I am *10 better!\n",
    "        \n",
    "        \n",
    "        # Replace 3 or more consecutive letters by 2 letter.\n",
    "        tweet = re.sub(sequencePattern, seqReplacePattern, tweet) # e.g Replace Heyyyyyyy with Heyy\n",
    "        \n",
    "        \n",
    "        tweetwords = ''\n",
    "        for word in tweet.split():\n",
    "            if len(word) > 2 and word.isalpha():\n",
    "                word = wordLemma.lemmatize(word)\n",
    "                tweetwords += (word + ' ')\n",
    "        \n",
    "        processedText.append(tweetwords)\n",
    "        \n",
    "    return processedText"
   ]
  },
  {
   "cell_type": "markdown",
   "id": "5410f00f",
   "metadata": {},
   "source": [
    "## helper functions"
   ]
  },
  {
   "cell_type": "code",
   "execution_count": 3,
   "id": "952f91e6",
   "metadata": {},
   "outputs": [],
   "source": [
    "def load_models():\n",
    "    '''\n",
    "    Replace '..path/' by the path of the saved models.\n",
    "    '''\n",
    "    \n",
    "    # Load the vectoriser.\n",
    "    file = open('vectoriser-ngram-(1,2).pickle', 'rb')\n",
    "    vectoriser = pickle.load(file)\n",
    "    file.close()\n",
    "    \n",
    "    \n",
    "    # Load the LR Model.\n",
    "    file = open('Sentiment-LR.pickle', 'rb')\n",
    "    LRmodel = pickle.load(file)\n",
    "    file.close()\n",
    "    \n",
    "    return vectoriser, LRmodel\n",
    "\n",
    "def predict(vectoriser, model, text):\n",
    "    # Predict the sentiment\n",
    "    textdata = vectoriser.transform(preprocess(text)) #Passing the tweet through the processing stage and transforming it with the vectoriser\n",
    "#     sentiment = model.predict(textdata)\n",
    "    \n",
    "#     print(model.predict_proba(textdata))\n",
    "\n",
    "    \n",
    "    return model.predict_proba(textdata)\n",
    "    \n",
    "    \n",
    "    # Make a list of text with sentiment.\n",
    "#     data = []\n",
    "#     for text, pred in zip(text, sentiment):\n",
    "#         data.append((text,pred))\n",
    "        \n",
    "#     # Convert the list into a Pandas DataFrame.\n",
    "#     df = pd.DataFrame(data, columns = ['text','sentiment'])\n",
    "#     df = df.replace([0,1], [\"Negative\",\"Positive\"]) #Replacing the class of 0 and 1 with Negative and Positive respectively\n",
    "#     return df"
   ]
  },
  {
   "cell_type": "markdown",
   "id": "4ad2fde7",
   "metadata": {},
   "source": [
    "## main"
   ]
  },
  {
   "cell_type": "code",
   "execution_count": 7,
   "id": "212df2c9",
   "metadata": {},
   "outputs": [
    {
     "name": "stdout",
     "output_type": "stream",
     "text": [
      "[0.95554024 0.66632203 0.01192503 0.83966091]\n"
     ]
    }
   ],
   "source": [
    "if __name__==\"__main__\":\n",
    "    # Loading the models.\n",
    "    vectoriser, LRmodel = load_models()\n",
    "    \n",
    "    # Text to classify should be in a list.\n",
    "    text = [\"I Love Google!\",\n",
    "            \"May the Good Lord be with you.\", \"I hate peanuts!\",\n",
    "            \"Mr. Kehinde, what are you doing next? this is great!\"]\n",
    "    \n",
    "    sentiments = predict(vectoriser, LRmodel, text)\n",
    "    \n",
    "    # probability that a sentiment is positive\n",
    "    # 1 means positive\n",
    "    # 0 means negative\n",
    "    prob_positive = sentiments[:,1]\n",
    "    \n",
    "    print(prob_positive)"
   ]
  },
  {
   "cell_type": "code",
   "execution_count": null,
   "id": "ffdc87d0",
   "metadata": {},
   "outputs": [],
   "source": []
  }
 ],
 "metadata": {
  "kernelspec": {
   "display_name": "tf2",
   "language": "python",
   "name": "tf2"
  },
  "language_info": {
   "codemirror_mode": {
    "name": "ipython",
    "version": 3
   },
   "file_extension": ".py",
   "mimetype": "text/x-python",
   "name": "python",
   "nbconvert_exporter": "python",
   "pygments_lexer": "ipython3",
   "version": "3.8.11"
  }
 },
 "nbformat": 4,
 "nbformat_minor": 5
}
